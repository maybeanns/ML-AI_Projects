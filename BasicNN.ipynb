{
  "nbformat": 4,
  "nbformat_minor": 0,
  "metadata": {
    "colab": {
      "provenance": [],
      "authorship_tag": "ABX9TyPt1x8SP1kGOD6PyNjMy/y/"
    },
    "kernelspec": {
      "name": "python3",
      "display_name": "Python 3"
    },
    "language_info": {
      "name": "python"
    }
  },
  "cells": [
    {
      "cell_type": "code",
      "execution_count": 3,
      "metadata": {
        "id": "iCOYzxC1sTw0"
      },
      "outputs": [],
      "source": [
        "import tensorflow as tf\n",
        "from tensorflow.keras.models import Sequential\n",
        "from tensorflow.keras.layers import Dense"
      ]
    },
    {
      "cell_type": "code",
      "source": [
        "from sklearn.datasets import load_iris\n",
        "from sklearn.model_selection import train_test_split\n",
        "from sklearn.preprocessing import OneHotEncoder\n"
      ],
      "metadata": {
        "id": "icVbYmjfsYcC"
      },
      "execution_count": 4,
      "outputs": []
    },
    {
      "cell_type": "code",
      "source": [
        "iris = load_iris()\n",
        "X = iris.data\n",
        "y = iris.target.reshape(-1, 1)\n",
        "\n",
        "# One hot encode the target labels\n",
        "encoder = OneHotEncoder(sparse=False)\n",
        "y = encoder.fit_transform(y)\n",
        "\n",
        "# Split the data into training and testing sets\n",
        "X_train, X_test, y_train, y_test = train_test_split(X, y, test_size=0.2, random_state=42)"
      ],
      "metadata": {
        "colab": {
          "base_uri": "https://localhost:8080/"
        },
        "id": "Vg075TxSv1Bu",
        "outputId": "f6e81763-33eb-4353-aa4d-8b86c8721f29"
      },
      "execution_count": 5,
      "outputs": [
        {
          "output_type": "stream",
          "name": "stderr",
          "text": [
            "/usr/local/lib/python3.10/dist-packages/sklearn/preprocessing/_encoders.py:868: FutureWarning: `sparse` was renamed to `sparse_output` in version 1.2 and will be removed in 1.4. `sparse_output` is ignored unless you leave `sparse` to its default value.\n",
            "  warnings.warn(\n"
          ]
        }
      ]
    },
    {
      "cell_type": "code",
      "source": [
        "model = Sequential([\n",
        "    Dense(10, input_shape=(4,), activation='relu'),  # Hidden layer with 10 neurons\n",
        "    Dense(3, activation='softmax')  # Output layer with 3 neurons (one for each class)\n",
        "])\n",
        "\n",
        "# Compile the model\n",
        "model.compile(optimizer='adam', loss='categorical_crossentropy', metrics=['accuracy'])\n",
        "\n",
        "model.fit(X_train, y_train, epochs=50, batch_size=5, verbose=1)\n"
      ],
      "metadata": {
        "colab": {
          "base_uri": "https://localhost:8080/"
        },
        "id": "MEJ52ZsewWfs",
        "outputId": "9496e366-7c56-4d72-f9d1-9b2d235dd335"
      },
      "execution_count": 6,
      "outputs": [
        {
          "output_type": "stream",
          "name": "stdout",
          "text": [
            "Epoch 1/50\n",
            "24/24 [==============================] - 1s 2ms/step - loss: 1.2571 - accuracy: 0.3417\n",
            "Epoch 2/50\n",
            "24/24 [==============================] - 0s 2ms/step - loss: 1.1365 - accuracy: 0.3417\n",
            "Epoch 3/50\n",
            "24/24 [==============================] - 0s 2ms/step - loss: 1.0542 - accuracy: 0.4750\n",
            "Epoch 4/50\n",
            "24/24 [==============================] - 0s 1ms/step - loss: 1.0040 - accuracy: 0.6667\n",
            "Epoch 5/50\n",
            "24/24 [==============================] - 0s 2ms/step - loss: 0.9617 - accuracy: 0.6667\n",
            "Epoch 6/50\n",
            "24/24 [==============================] - 0s 2ms/step - loss: 0.9236 - accuracy: 0.6750\n",
            "Epoch 7/50\n",
            "24/24 [==============================] - 0s 2ms/step - loss: 0.8842 - accuracy: 0.6333\n",
            "Epoch 8/50\n",
            "24/24 [==============================] - 0s 2ms/step - loss: 0.8487 - accuracy: 0.5833\n",
            "Epoch 9/50\n",
            "24/24 [==============================] - 0s 2ms/step - loss: 0.8159 - accuracy: 0.5333\n",
            "Epoch 10/50\n",
            "24/24 [==============================] - 0s 2ms/step - loss: 0.7814 - accuracy: 0.5417\n",
            "Epoch 11/50\n",
            "24/24 [==============================] - 0s 2ms/step - loss: 0.7499 - accuracy: 0.6083\n",
            "Epoch 12/50\n",
            "24/24 [==============================] - 0s 3ms/step - loss: 0.7218 - accuracy: 0.5667\n",
            "Epoch 13/50\n",
            "24/24 [==============================] - 0s 3ms/step - loss: 0.6942 - accuracy: 0.6250\n",
            "Epoch 14/50\n",
            "24/24 [==============================] - 0s 2ms/step - loss: 0.6664 - accuracy: 0.6583\n",
            "Epoch 15/50\n",
            "24/24 [==============================] - 0s 2ms/step - loss: 0.6424 - accuracy: 0.7167\n",
            "Epoch 16/50\n",
            "24/24 [==============================] - 0s 2ms/step - loss: 0.6199 - accuracy: 0.7417\n",
            "Epoch 17/50\n",
            "24/24 [==============================] - 0s 2ms/step - loss: 0.5959 - accuracy: 0.7833\n",
            "Epoch 18/50\n",
            "24/24 [==============================] - 0s 2ms/step - loss: 0.5719 - accuracy: 0.8583\n",
            "Epoch 19/50\n",
            "24/24 [==============================] - 0s 2ms/step - loss: 0.5529 - accuracy: 0.8500\n",
            "Epoch 20/50\n",
            "24/24 [==============================] - 0s 2ms/step - loss: 0.5358 - accuracy: 0.8500\n",
            "Epoch 21/50\n",
            "24/24 [==============================] - 0s 2ms/step - loss: 0.5206 - accuracy: 0.9083\n",
            "Epoch 22/50\n",
            "24/24 [==============================] - 0s 2ms/step - loss: 0.5097 - accuracy: 0.8667\n",
            "Epoch 23/50\n",
            "24/24 [==============================] - 0s 2ms/step - loss: 0.4941 - accuracy: 0.9083\n",
            "Epoch 24/50\n",
            "24/24 [==============================] - 0s 2ms/step - loss: 0.4796 - accuracy: 0.9333\n",
            "Epoch 25/50\n",
            "24/24 [==============================] - 0s 2ms/step - loss: 0.4697 - accuracy: 0.9333\n",
            "Epoch 26/50\n",
            "24/24 [==============================] - 0s 2ms/step - loss: 0.4592 - accuracy: 0.9417\n",
            "Epoch 27/50\n",
            "24/24 [==============================] - 0s 2ms/step - loss: 0.4500 - accuracy: 0.9250\n",
            "Epoch 28/50\n",
            "24/24 [==============================] - 0s 2ms/step - loss: 0.4401 - accuracy: 0.9083\n",
            "Epoch 29/50\n",
            "24/24 [==============================] - 0s 2ms/step - loss: 0.4294 - accuracy: 0.9333\n",
            "Epoch 30/50\n",
            "24/24 [==============================] - 0s 3ms/step - loss: 0.4227 - accuracy: 0.9417\n",
            "Epoch 31/50\n",
            "24/24 [==============================] - 0s 4ms/step - loss: 0.4167 - accuracy: 0.9333\n",
            "Epoch 32/50\n",
            "24/24 [==============================] - 0s 4ms/step - loss: 0.4049 - accuracy: 0.9417\n",
            "Epoch 33/50\n",
            "24/24 [==============================] - 0s 3ms/step - loss: 0.3999 - accuracy: 0.9333\n",
            "Epoch 34/50\n",
            "24/24 [==============================] - 0s 4ms/step - loss: 0.3931 - accuracy: 0.9500\n",
            "Epoch 35/50\n",
            "24/24 [==============================] - 0s 3ms/step - loss: 0.3859 - accuracy: 0.9583\n",
            "Epoch 36/50\n",
            "24/24 [==============================] - 0s 3ms/step - loss: 0.3806 - accuracy: 0.9417\n",
            "Epoch 37/50\n",
            "24/24 [==============================] - 0s 3ms/step - loss: 0.3746 - accuracy: 0.9583\n",
            "Epoch 38/50\n",
            "24/24 [==============================] - 0s 3ms/step - loss: 0.3688 - accuracy: 0.9500\n",
            "Epoch 39/50\n",
            "24/24 [==============================] - 0s 3ms/step - loss: 0.3627 - accuracy: 0.9667\n",
            "Epoch 40/50\n",
            "24/24 [==============================] - 0s 3ms/step - loss: 0.3610 - accuracy: 0.9417\n",
            "Epoch 41/50\n",
            "24/24 [==============================] - 0s 3ms/step - loss: 0.3516 - accuracy: 0.9500\n",
            "Epoch 42/50\n",
            "24/24 [==============================] - 0s 3ms/step - loss: 0.3479 - accuracy: 0.9667\n",
            "Epoch 43/50\n",
            "24/24 [==============================] - 0s 3ms/step - loss: 0.3406 - accuracy: 0.9500\n",
            "Epoch 44/50\n",
            "24/24 [==============================] - 0s 3ms/step - loss: 0.3372 - accuracy: 0.9583\n",
            "Epoch 45/50\n",
            "24/24 [==============================] - 0s 4ms/step - loss: 0.3317 - accuracy: 0.9500\n",
            "Epoch 46/50\n",
            "24/24 [==============================] - 0s 3ms/step - loss: 0.3256 - accuracy: 0.9500\n",
            "Epoch 47/50\n",
            "24/24 [==============================] - 0s 3ms/step - loss: 0.3226 - accuracy: 0.9500\n",
            "Epoch 48/50\n",
            "24/24 [==============================] - 0s 3ms/step - loss: 0.3167 - accuracy: 0.9667\n",
            "Epoch 49/50\n",
            "24/24 [==============================] - 0s 3ms/step - loss: 0.3134 - accuracy: 0.9583\n",
            "Epoch 50/50\n",
            "24/24 [==============================] - 0s 2ms/step - loss: 0.3074 - accuracy: 0.9583\n"
          ]
        },
        {
          "output_type": "execute_result",
          "data": {
            "text/plain": [
              "<keras.src.callbacks.History at 0x786ab31f0d30>"
            ]
          },
          "metadata": {},
          "execution_count": 6
        }
      ]
    },
    {
      "cell_type": "code",
      "source": [
        "loss, accuracy = model.evaluate(X_test, y_test)\n",
        "print(f\"Test Accuracy: {accuracy:.2f}\")\n"
      ],
      "metadata": {
        "colab": {
          "base_uri": "https://localhost:8080/"
        },
        "id": "vMpRxk83hApb",
        "outputId": "92c90462-e33c-48eb-8b57-4434e82852a1"
      },
      "execution_count": 7,
      "outputs": [
        {
          "output_type": "stream",
          "name": "stdout",
          "text": [
            "1/1 [==============================] - 0s 455ms/step - loss: 0.3109 - accuracy: 1.0000\n",
            "Test Accuracy: 1.00\n"
          ]
        }
      ]
    },
    {
      "cell_type": "code",
      "source": [],
      "metadata": {
        "id": "aGdlCkNOhBMA"
      },
      "execution_count": null,
      "outputs": []
    }
  ]
}